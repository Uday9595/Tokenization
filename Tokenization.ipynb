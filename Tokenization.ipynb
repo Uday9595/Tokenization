{
  "nbformat": 4,
  "nbformat_minor": 0,
  "metadata": {
    "colab": {
      "provenance": []
    },
    "kernelspec": {
      "name": "python3",
      "display_name": "Python 3"
    },
    "language_info": {
      "name": "python"
    }
  },
  "cells": [
    {
      "cell_type": "code",
      "execution_count": 3,
      "metadata": {
        "id": "ImwNtEZWV3D8"
      },
      "outputs": [],
      "source": [
        "import nltk\n",
        "from nltk.tokenize import word_tokenize"
      ]
    },
    {
      "cell_type": "code",
      "source": [
        "nltk.download('punkt')"
      ],
      "metadata": {
        "colab": {
          "base_uri": "https://localhost:8080/"
        },
        "id": "F8NPvPOzWSYo",
        "outputId": "221c8ad0-edfd-4dd8-94be-153097259677"
      },
      "execution_count": 5,
      "outputs": [
        {
          "output_type": "stream",
          "name": "stderr",
          "text": [
            "[nltk_data] Downloading package punkt to /root/nltk_data...\n",
            "[nltk_data]   Unzipping tokenizers/punkt.zip.\n"
          ]
        },
        {
          "output_type": "execute_result",
          "data": {
            "text/plain": [
              "True"
            ]
          },
          "metadata": {},
          "execution_count": 5
        }
      ]
    },
    {
      "cell_type": "code",
      "source": [
        "paragraph = \"Hellonn. This is AIDA Lab. Be careful what you are doing\""
      ],
      "metadata": {
        "id": "ff4Yg9I-Weod"
      },
      "execution_count": 6,
      "outputs": []
    },
    {
      "cell_type": "code",
      "source": [
        "sentences = paragraph.split(\".\")"
      ],
      "metadata": {
        "id": "74QUHDh5XWge"
      },
      "execution_count": 7,
      "outputs": []
    },
    {
      "cell_type": "code",
      "source": [
        "tokenized_sentences =  [sentence.strip().split() for sentence in sentences if sentence.strip()]\n"
      ],
      "metadata": {
        "id": "hV6wkbqGXbl2"
      },
      "execution_count": 8,
      "outputs": []
    },
    {
      "cell_type": "code",
      "source": [
        "for sentence in tokenized_sentences:\n",
        "    print(sentence)"
      ],
      "metadata": {
        "colab": {
          "base_uri": "https://localhost:8080/"
        },
        "id": "PxsD4R6EYCBN",
        "outputId": "caa15c31-d1c7-48ba-f0a8-d5e6aa354e6d"
      },
      "execution_count": 10,
      "outputs": [
        {
          "output_type": "stream",
          "name": "stdout",
          "text": [
            "['Hellonn']\n",
            "['This', 'is', 'AIDA', 'Lab']\n",
            "['Be', 'careful', 'what', 'you', 'are', 'doing']\n"
          ]
        }
      ]
    },
    {
      "cell_type": "code",
      "source": [
        "sentences = [\n",
        "    \"I don't like bananas\",\n",
        "    \"They're always late\",\n",
        "    \"This was co-created by my friend\",\n",
        "    \"This document was signed \\\"12-02-24\\\"\" ]\n",
        "\n"
      ],
      "metadata": {
        "id": "rUMk9kPqYEgd"
      },
      "execution_count": 12,
      "outputs": []
    },
    {
      "cell_type": "code",
      "source": [
        "tokenized_sentences = [sentence.split() for sentence in sentences]\n"
      ],
      "metadata": {
        "id": "Ir2oWglrZJrg"
      },
      "execution_count": 13,
      "outputs": []
    },
    {
      "cell_type": "code",
      "source": [
        "for sentence in tokenized_sentences:\n",
        "    print(sentence)"
      ],
      "metadata": {
        "colab": {
          "base_uri": "https://localhost:8080/"
        },
        "id": "_ionMyilZOun",
        "outputId": "915a468d-73c2-48e7-ddc3-b7452d4c0bcc"
      },
      "execution_count": 14,
      "outputs": [
        {
          "output_type": "stream",
          "name": "stdout",
          "text": [
            "['I', \"don't\", 'like', 'bananas']\n",
            "[\"They're\", 'always', 'late']\n",
            "['This', 'was', 'co-created', 'by', 'my', 'friend']\n",
            "['This', 'document', 'was', 'signed', '\"12-02-24\"']\n"
          ]
        }
      ]
    },
    {
      "cell_type": "code",
      "source": [
        "vocabulary = set([word for sentence in tokenized_sentences for word in sentence])\n"
      ],
      "metadata": {
        "id": "NGm1-W5-ZTP_"
      },
      "execution_count": 15,
      "outputs": []
    },
    {
      "cell_type": "code",
      "source": [
        "print(\"\\nVocabulary:\", vocabulary)"
      ],
      "metadata": {
        "colab": {
          "base_uri": "https://localhost:8080/"
        },
        "id": "zlm8b7UgZXKg",
        "outputId": "853b1370-178c-48c0-fd37-2d5223360d98"
      },
      "execution_count": 16,
      "outputs": [
        {
          "output_type": "stream",
          "name": "stdout",
          "text": [
            "\n",
            "Vocabulary: {\"They're\", 'always', 'late', 'This', 'my', 'bananas', 'co-created', 'friend', 'document', 'by', 'signed', '\"12-02-24\"', 'was', \"don't\", 'I', 'like'}\n"
          ]
        }
      ]
    },
    {
      "cell_type": "code",
      "source": [],
      "metadata": {
        "id": "DAQy0E77ZZkH"
      },
      "execution_count": null,
      "outputs": []
    }
  ]
}